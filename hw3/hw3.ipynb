{
 "cells": [
  {
   "cell_type": "markdown",
   "metadata": {},
   "source": [
    "# STA 141B: Homework 3\n",
    "\n",
    "Fall 2018"
   ]
  },
  {
   "cell_type": "markdown",
   "metadata": {},
   "source": [
    "## Information\n",
    "\n",
    "After the colons (in the same line) please write just your first name, last name, and the 9 digit student ID number below.\n",
    "\n",
    "First Name: Kevin\n",
    "\n",
    "Last Name: Chu\n",
    "\n",
    "Student ID: 913077890"
   ]
  },
  {
   "cell_type": "markdown",
   "metadata": {},
   "source": [
    "## Instructions\n",
    "\n",
    "### New item: Please print your answer notebook to pdf (make sure that it is not too many pages, > 10, due to long output) and submit as the homework solution with your zip file.\n",
    "\n",
    "We use a script that extracts your answers by looking for cells in between the cells containing the exercise statements.  So you \n",
    "\n",
    "- MUST add cells in between the exercise statements and add answers within them and\n",
    "- MUST NOT modify the existing cells, particularly not the problem statement\n",
    "\n",
    "To make markdown, please switch the cell type to markdown (from code) - you can hit 'm' when you are in command mode - and use the markdown language.  For a brief tutorial see: https://daringfireball.net/projects/markdown/syntax"
   ]
  },
  {
   "cell_type": "markdown",
   "metadata": {},
   "source": [
    "### Introduction\n",
    "\n",
    "The US Department of Agriculture publishes price estimates for fruits and vegetables [online](https://www.ers.usda.gov/data-products/fruit-and-vegetable-prices/fruit-and-vegetable-prices/). The most recent estimates are based on a 2013 survey of US retail stores.\n",
    "\n",
    "The estimates are provided as a collection of MS Excel files, with one file per fruit or vegetable. The `hw3_data.zip` file contains the fruit and vegetable files in the directories `fruit` and `vegetables`, respectively."
   ]
  },
  {
   "cell_type": "markdown",
   "metadata": {},
   "source": [
    "__Exercise 1.__ Use pandas to extract the \"Fresh\" row(s) from the <strong style=\"color:#B0B\">fruit</strong> Excel files. Combine the data into a single data frame. Your data frame should look something like this:\n",
    "\n",
    "type       | food       | form   | price_per_lb | yield | lb_per_cup | price_per_cup\n",
    "---------- | ---------- | ------ | ------------ | ----- | ---------- | -------------\n",
    "fruit      | watermelon | Fresh1 | 0.333412     | 0.52  | 0.330693   | 0.212033\n",
    "fruit      | cantaloupe | Fresh1 | 0.535874     | 0.51  | 0.374786   | 0.3938\n",
    "vegetables | onions     | Fresh1 | 1.03811      | 0.9   | 0.35274    | 0.406868\n",
    "...        |            |        |              |       |            |\n",
    "\n",
    "\n",
    "It's okay if the rows and columns of your data frame are in a different order. These modules are especially relevant:\n",
    "\n",
    "* [`str` methods](https://docs.python.org/2/library/stdtypes.html#string-methods)\n",
    "* [`os`](https://docs.python.org/2/library/os.html)\n",
    "* [`os.path`](https://docs.python.org/2/library/os.path.html)\n",
    "* [pandas](http://pandas.pydata.org/pandas-docs/stable/): `read_excel()`, `concat()`, `.fillna()`, `.str`, plotting methods\n",
    "\n",
    "Ask questions and search the documentation/web to find the functions you need.\n"
   ]
  },
  {
   "cell_type": "code",
   "execution_count": 1,
   "metadata": {},
   "outputs": [
    {
     "name": "stdout",
     "output_type": "stream",
     "text": [
      "# of rows in fresh_fruit:  24\n"
     ]
    },
    {
     "data": {
      "text/html": [
       "<div>\n",
       "<style scoped>\n",
       "    .dataframe tbody tr th:only-of-type {\n",
       "        vertical-align: middle;\n",
       "    }\n",
       "\n",
       "    .dataframe tbody tr th {\n",
       "        vertical-align: top;\n",
       "    }\n",
       "\n",
       "    .dataframe thead th {\n",
       "        text-align: right;\n",
       "    }\n",
       "</style>\n",
       "<table border=\"1\" class=\"dataframe\">\n",
       "  <thead>\n",
       "    <tr style=\"text-align: right;\">\n",
       "      <th></th>\n",
       "      <th>type</th>\n",
       "      <th>food</th>\n",
       "      <th>form</th>\n",
       "      <th>price_per_lb</th>\n",
       "      <th>yield</th>\n",
       "      <th>lb_per_cup</th>\n",
       "      <th>price_per_cup</th>\n",
       "    </tr>\n",
       "  </thead>\n",
       "  <tbody>\n",
       "    <tr>\n",
       "      <th>0</th>\n",
       "      <td>fruit</td>\n",
       "      <td>apples</td>\n",
       "      <td>Fresh1</td>\n",
       "      <td>1.56752</td>\n",
       "      <td>0.9</td>\n",
       "      <td>0.242508</td>\n",
       "      <td>0.422373</td>\n",
       "    </tr>\n",
       "    <tr>\n",
       "      <th>1</th>\n",
       "      <td>fruit</td>\n",
       "      <td>apricots</td>\n",
       "      <td>Fresh1</td>\n",
       "      <td>3.04007</td>\n",
       "      <td>0.93</td>\n",
       "      <td>0.363763</td>\n",
       "      <td>1.1891</td>\n",
       "    </tr>\n",
       "    <tr>\n",
       "      <th>2</th>\n",
       "      <td>fruit</td>\n",
       "      <td>bananas</td>\n",
       "      <td>Fresh1</td>\n",
       "      <td>0.566983</td>\n",
       "      <td>0.64</td>\n",
       "      <td>0.330693</td>\n",
       "      <td>0.292965</td>\n",
       "    </tr>\n",
       "    <tr>\n",
       "      <th>3</th>\n",
       "      <td>fruit</td>\n",
       "      <td>blackberries</td>\n",
       "      <td>Fresh1</td>\n",
       "      <td>5.77471</td>\n",
       "      <td>0.96</td>\n",
       "      <td>0.31967</td>\n",
       "      <td>1.92292</td>\n",
       "    </tr>\n",
       "    <tr>\n",
       "      <th>4</th>\n",
       "      <td>fruit</td>\n",
       "      <td>blueberries</td>\n",
       "      <td>Fresh1</td>\n",
       "      <td>4.73462</td>\n",
       "      <td>0.95</td>\n",
       "      <td>0.31967</td>\n",
       "      <td>1.59318</td>\n",
       "    </tr>\n",
       "  </tbody>\n",
       "</table>\n",
       "</div>"
      ],
      "text/plain": [
       "    type          food     form price_per_lb yield lb_per_cup price_per_cup\n",
       "0  fruit        apples   Fresh1      1.56752   0.9   0.242508      0.422373\n",
       "1  fruit      apricots   Fresh1      3.04007  0.93   0.363763        1.1891\n",
       "2  fruit       bananas   Fresh1     0.566983  0.64   0.330693      0.292965\n",
       "3  fruit  blackberries  Fresh1       5.77471  0.96    0.31967       1.92292\n",
       "4  fruit   blueberries   Fresh1      4.73462  0.95    0.31967       1.59318"
      ]
     },
     "execution_count": 1,
     "metadata": {},
     "output_type": "execute_result"
    }
   ],
   "source": [
    "#Collaborated with Andrew Le about using .str.contains()\n",
    "\n",
    "import pandas as pd\n",
    "import os\n",
    "\n",
    "def fresh_fun(path, food):\n",
    "    \"\"\"\n",
    "    Function takes a file path, reads all the excel files in that file path, and \n",
    "    creates a single dataframe of the rows containing \"Fresh\" form. Afterwards \n",
    "    it restructures the dataframe into the desired output.\n",
    "    \n",
    "    Parameters\n",
    "    ----------\n",
    "    path: str value of the file path\n",
    "    food: str value of the type of food e.g. (\"fruit\", \"vegetables\")\n",
    "    \n",
    "    Returns\n",
    "    ----------\n",
    "    fresh_data: pandas dataframe of just the \"Fresh\" rows from all the excel files \n",
    "    that were read\n",
    "    \"\"\"\n",
    "    file_path = os.path.join(path, food)\n",
    "    files = os.listdir(file_path)\n",
    "    files.sort()\n",
    "    data = pd.DataFrame()\n",
    "    \n",
    "    for file in files:\n",
    "        excel_files = pd.read_excel(file_path + \"/\" + file, header = 1)\n",
    "        excel_files[\"food\"] = file.split(\".\")[0]\n",
    "        excel_files[\"type\"] = food\n",
    "        data = pd.concat([data, excel_files], sort = True)\n",
    "        \n",
    "    fresh_data = data[data[\"Form\"].str.contains('Fresh').fillna(False)]\n",
    "    fresh_data = fresh_data.drop(columns = [\"Unnamed: 2\", \"Unnamed: 5\", \n",
    "                                            \"Unnamed: 7\", \"Unnamed: 8\"])\n",
    "    fresh_data = fresh_data.rename(columns = {\"Average price\": \"price_per_cup\", \n",
    "                                              \"Average retail price \": \"price_per_lb\",\n",
    "                                              \"Preparation\": \"yield\", \n",
    "                                              \"Size of a \": \"lb_per_cup\", \n",
    "                                              \"Form\": \"form\"})\n",
    "    fresh_data = fresh_data[[\"type\", \"food\", \"form\", \"price_per_lb\", \"yield\", \n",
    "                             \"lb_per_cup\", \"price_per_cup\"]]\n",
    "    \n",
    "    return(fresh_data)\n",
    "\n",
    "path = \"C:\\\\Users\\\\WoH\\\\Desktop\\\\Python\\\\STATS 141B\\\\hw3\"\n",
    "fruit = \"fruit\"\n",
    "\n",
    "fresh_fruit = fresh_fun(path, fruit)\n",
    "fresh_fruit = fresh_fruit.reset_index(drop = True)\n",
    "print(\"# of rows in fresh_fruit: \", len(fresh_fruit))\n",
    "fresh_fruit.head()"
   ]
  },
  {
   "cell_type": "markdown",
   "metadata": {},
   "source": [
    "__Exercise 2.__ Reuse your code from exercise 1.1 to extract the \"Fresh\" row(s) from the <strong style=\"color:#B0B\">vegetable</strong> Excel files.\n",
    "\n",
    "Does your code produce the correct prices for tomatoes? If not, why not? Do any other files have the same problem as the tomatoes file?\n",
    "\n",
    "You don't need to extract the prices for these problem files. However, make sure the prices are extracted for files like asparagus that don't have this problem."
   ]
  },
  {
   "cell_type": "code",
   "execution_count": 2,
   "metadata": {
    "scrolled": true
   },
   "outputs": [
    {
     "name": "stdout",
     "output_type": "stream",
     "text": [
      "# of rows in fresh_veg:  33\n"
     ]
    },
    {
     "data": {
      "text/html": [
       "<div>\n",
       "<style scoped>\n",
       "    .dataframe tbody tr th:only-of-type {\n",
       "        vertical-align: middle;\n",
       "    }\n",
       "\n",
       "    .dataframe tbody tr th {\n",
       "        vertical-align: top;\n",
       "    }\n",
       "\n",
       "    .dataframe thead th {\n",
       "        text-align: right;\n",
       "    }\n",
       "</style>\n",
       "<table border=\"1\" class=\"dataframe\">\n",
       "  <thead>\n",
       "    <tr style=\"text-align: right;\">\n",
       "      <th></th>\n",
       "      <th>type</th>\n",
       "      <th>food</th>\n",
       "      <th>form</th>\n",
       "      <th>price_per_lb</th>\n",
       "      <th>yield</th>\n",
       "      <th>lb_per_cup</th>\n",
       "      <th>price_per_cup</th>\n",
       "    </tr>\n",
       "  </thead>\n",
       "  <tbody>\n",
       "    <tr>\n",
       "      <th>0</th>\n",
       "      <td>vegetables</td>\n",
       "      <td>acorn_squash</td>\n",
       "      <td>Fresh1</td>\n",
       "      <td>1.17225</td>\n",
       "      <td>0.458554</td>\n",
       "      <td>0.451948</td>\n",
       "      <td>1.15536</td>\n",
       "    </tr>\n",
       "    <tr>\n",
       "      <th>1</th>\n",
       "      <td>vegetables</td>\n",
       "      <td>artichoke</td>\n",
       "      <td>Fresh1</td>\n",
       "      <td>2.21305</td>\n",
       "      <td>0.375309</td>\n",
       "      <td>0.385809</td>\n",
       "      <td>2.27497</td>\n",
       "    </tr>\n",
       "    <tr>\n",
       "      <th>2</th>\n",
       "      <td>vegetables</td>\n",
       "      <td>asparagus</td>\n",
       "      <td>Fresh1</td>\n",
       "      <td>3.21349</td>\n",
       "      <td>0.493835</td>\n",
       "      <td>0.396832</td>\n",
       "      <td>2.58227</td>\n",
       "    </tr>\n",
       "    <tr>\n",
       "      <th>3</th>\n",
       "      <td>vegetables</td>\n",
       "      <td>avocados</td>\n",
       "      <td>Fresh1</td>\n",
       "      <td>2.23587</td>\n",
       "      <td>0.740753</td>\n",
       "      <td>0.31967</td>\n",
       "      <td>0.964886</td>\n",
       "    </tr>\n",
       "    <tr>\n",
       "      <th>4</th>\n",
       "      <td>vegetables</td>\n",
       "      <td>broccoli</td>\n",
       "      <td>Fresh</td>\n",
       "      <td></td>\n",
       "      <td></td>\n",
       "      <td></td>\n",
       "      <td>NaN</td>\n",
       "    </tr>\n",
       "  </tbody>\n",
       "</table>\n",
       "</div>"
      ],
      "text/plain": [
       "         type          food    form price_per_lb     yield lb_per_cup  \\\n",
       "0  vegetables  acorn_squash  Fresh1      1.17225  0.458554   0.451948   \n",
       "1  vegetables     artichoke  Fresh1      2.21305  0.375309   0.385809   \n",
       "2  vegetables     asparagus  Fresh1      3.21349  0.493835   0.396832   \n",
       "3  vegetables      avocados  Fresh1      2.23587  0.740753    0.31967   \n",
       "4  vegetables      broccoli  Fresh                                      \n",
       "\n",
       "  price_per_cup  \n",
       "0       1.15536  \n",
       "1       2.27497  \n",
       "2       2.58227  \n",
       "3      0.964886  \n",
       "4           NaN  "
      ]
     },
     "execution_count": 2,
     "metadata": {},
     "output_type": "execute_result"
    }
   ],
   "source": [
    "path = \"C:\\\\Users\\\\WoH\\\\Desktop\\\\Python\\\\STATS 141B\\\\hw3\"\n",
    "vegetables = \"vegetables\"\n",
    "\n",
    "fresh_veg = fresh_fun(path, vegetables)\n",
    "fresh_veg = fresh_veg.reset_index(drop = True)\n",
    "\n",
    "#Need to fix food names because the values at pairs (7,8) and (14,15) are the same\n",
    "fresh_veg.loc[7, \"food\"] = \"green_cabbage\"\n",
    "fresh_veg.loc[8, \"food\"] = \"red_cababage\"\n",
    "fresh_veg.loc[14, \"food\"] = \"unpeeled_cucumber\"\n",
    "fresh_veg.loc[15, \"food\"] = \"peeled_cucumber\"\n",
    "\n",
    "print(\"# of rows in fresh_veg: \", len(fresh_veg))\n",
    "fresh_veg.head()"
   ]
  },
  {
   "cell_type": "markdown",
   "metadata": {},
   "source": [
    "__Does your code produce the correct prices for tomatoes? If not, why not? Do any other files have the same problem as the tomatoes file?__\n",
    "\n",
    "No, my code does not produce the correct prices for tomatoes because the values are missing. Other files with this same problem are broccoli, carrots, cauliflower, celery, lettuce_romaine, mushrooms, and spinach."
   ]
  },
  {
   "cell_type": "markdown",
   "metadata": {},
   "source": [
    "__Exercise 3.__ Remove rows without a price from the vegetable data frame and then combine the fruit and vegetable data frames. Make sure all columns of numbers are numeric (not strings)."
   ]
  },
  {
   "cell_type": "code",
   "execution_count": 3,
   "metadata": {
    "scrolled": true
   },
   "outputs": [
    {
     "name": "stdout",
     "output_type": "stream",
     "text": [
      "# of columns in fresh_veg_drop:  25\n",
      "# of rows in fruit_veg:  49\n"
     ]
    },
    {
     "data": {
      "text/html": [
       "<div>\n",
       "<style scoped>\n",
       "    .dataframe tbody tr th:only-of-type {\n",
       "        vertical-align: middle;\n",
       "    }\n",
       "\n",
       "    .dataframe tbody tr th {\n",
       "        vertical-align: top;\n",
       "    }\n",
       "\n",
       "    .dataframe thead th {\n",
       "        text-align: right;\n",
       "    }\n",
       "</style>\n",
       "<table border=\"1\" class=\"dataframe\">\n",
       "  <thead>\n",
       "    <tr style=\"text-align: right;\">\n",
       "      <th></th>\n",
       "      <th>type</th>\n",
       "      <th>food</th>\n",
       "      <th>form</th>\n",
       "      <th>price_per_lb</th>\n",
       "      <th>yield</th>\n",
       "      <th>lb_per_cup</th>\n",
       "      <th>price_per_cup</th>\n",
       "    </tr>\n",
       "  </thead>\n",
       "  <tbody>\n",
       "    <tr>\n",
       "      <th>0</th>\n",
       "      <td>fruit</td>\n",
       "      <td>apples</td>\n",
       "      <td>Fresh1</td>\n",
       "      <td>1.56752</td>\n",
       "      <td>0.9</td>\n",
       "      <td>0.242508</td>\n",
       "      <td>0.422373</td>\n",
       "    </tr>\n",
       "    <tr>\n",
       "      <th>1</th>\n",
       "      <td>fruit</td>\n",
       "      <td>apricots</td>\n",
       "      <td>Fresh1</td>\n",
       "      <td>3.04007</td>\n",
       "      <td>0.93</td>\n",
       "      <td>0.363763</td>\n",
       "      <td>1.1891</td>\n",
       "    </tr>\n",
       "    <tr>\n",
       "      <th>2</th>\n",
       "      <td>fruit</td>\n",
       "      <td>bananas</td>\n",
       "      <td>Fresh1</td>\n",
       "      <td>0.566983</td>\n",
       "      <td>0.64</td>\n",
       "      <td>0.330693</td>\n",
       "      <td>0.292965</td>\n",
       "    </tr>\n",
       "    <tr>\n",
       "      <th>3</th>\n",
       "      <td>fruit</td>\n",
       "      <td>blackberries</td>\n",
       "      <td>Fresh1</td>\n",
       "      <td>5.77471</td>\n",
       "      <td>0.96</td>\n",
       "      <td>0.31967</td>\n",
       "      <td>1.92292</td>\n",
       "    </tr>\n",
       "    <tr>\n",
       "      <th>4</th>\n",
       "      <td>fruit</td>\n",
       "      <td>blueberries</td>\n",
       "      <td>Fresh1</td>\n",
       "      <td>4.73462</td>\n",
       "      <td>0.95</td>\n",
       "      <td>0.31967</td>\n",
       "      <td>1.59318</td>\n",
       "    </tr>\n",
       "  </tbody>\n",
       "</table>\n",
       "</div>"
      ],
      "text/plain": [
       "    type          food     form price_per_lb yield lb_per_cup price_per_cup\n",
       "0  fruit        apples   Fresh1      1.56752   0.9   0.242508      0.422373\n",
       "1  fruit      apricots   Fresh1      3.04007  0.93   0.363763        1.1891\n",
       "2  fruit       bananas   Fresh1     0.566983  0.64   0.330693      0.292965\n",
       "3  fruit  blackberries  Fresh1       5.77471  0.96    0.31967       1.92292\n",
       "4  fruit   blueberries   Fresh1      4.73462  0.95    0.31967       1.59318"
      ]
     },
     "execution_count": 3,
     "metadata": {},
     "output_type": "execute_result"
    }
   ],
   "source": [
    "fresh_veg_drop = fresh_veg.dropna()\n",
    "fruit_veg = pd.concat([fresh_fruit, fresh_veg_drop])\n",
    "print(\"# of columns in fresh_veg_drop: \", len(fresh_veg_drop))\n",
    "print(\"# of rows in fruit_veg: \", len(fruit_veg))\n",
    "fruit_veg.head()"
   ]
  },
  {
   "cell_type": "code",
   "execution_count": 4,
   "metadata": {},
   "outputs": [
    {
     "data": {
      "text/plain": [
       "type              object\n",
       "food              object\n",
       "form              object\n",
       "price_per_lb     float64\n",
       "yield            float64\n",
       "lb_per_cup       float64\n",
       "price_per_cup    float64\n",
       "dtype: object"
      ]
     },
     "execution_count": 4,
     "metadata": {},
     "output_type": "execute_result"
    }
   ],
   "source": [
    "float_col = [\"price_per_lb\", \"yield\", \"lb_per_cup\", \"price_per_cup\"]\n",
    "for col in float_col:\n",
    "    fruit_veg[col] = fruit_veg[col].astype(float)\n",
    "\n",
    "fruit_veg.dtypes"
   ]
  },
  {
   "cell_type": "markdown",
   "metadata": {},
   "source": [
    "__Exercise 4.__ Discuss the questions below (a paragraph each is sufficient). Use plots to support your ideas.\n",
    "\n",
    "* What kinds of fruits are the most expensive (per pound)? What kinds are the least expensive?\n",
    "* How do the price distributions compare for fruit and vegetables?\n",
    "* Which foods are the best value for the price?\n",
    "* What's something surprising about this data set?\n",
    "* Which foods do you expect to provide the best combination of price, yield, and nutrition? A future assignment may combine this data set with another so you can check your hypothesis."
   ]
  },
  {
   "cell_type": "code",
   "execution_count": 5,
   "metadata": {
    "scrolled": false
   },
   "outputs": [
    {
     "data": {
      "text/plain": [
       "<Figure size 1000x1000 with 1 Axes>"
      ]
     },
     "metadata": {},
     "output_type": "display_data"
    }
   ],
   "source": [
    "import matplotlib.pyplot as plt\n",
    "plt.rcParams['figure.figsize'] = [10, 10]\n",
    "\n",
    "sorted_fruit_price = fresh_fruit.sort_values([\"price_per_lb\"])\n",
    "\n",
    "fig, ax = plt.subplots()\n",
    "price_plot = ax.barh(sorted_fruit_price[\"food\"], sorted_fruit_price[\"price_per_lb\"])\n",
    "ax.set_xlabel(\"price_per_lb\")\n",
    "ax.set_ylabel(\"type of fruit\")\n",
    "ax.set_title(\"price_per_lb vs type of fruit plot\")\n",
    "plt.show()"
   ]
  },
  {
   "cell_type": "code",
   "execution_count": 6,
   "metadata": {
    "scrolled": false
   },
   "outputs": [
    {
     "data": {
      "image/png": "[encoded data removed]",
      "text/plain": [
       "<Figure size 864x864 with 1 Axes>"
      ]
     },
     "metadata": {},
     "output_type": "display_data"
    }
   ],
   "source": [
    "plt.rcParams['figure.figsize'] = [12, 12]\n",
    "\n",
    "sorted_fruit_veg = fruit_veg.sort_values([\"price_per_lb\"])\n",
    "sorted_fruit_veg[\"colors\"] = 'r'\n",
    "sorted_fruit_veg.loc[sorted_fruit_veg[\"type\"] == \"vegetables\", \"colors\"] = 'b'\n",
    "\n",
    "fig, ax = plt.subplots()\n",
    "fruit_veg_plot = ax.barh(sorted_fruit_veg[\"food\"], sorted_fruit_veg[\"price_per_lb\"], \n",
    "                         color = sorted_fruit_veg[\"colors\"])\n",
    "ax.set_xlabel(\"price_per_lb\")\n",
    "ax.set_ylabel(\"type of fruit/veg\")\n",
    "ax.set_title(\"price_per_lb vs type of fruit/veg plot\")\n",
    "plt.show()\n",
    "    "
   ]
  },
  {
   "cell_type": "code",
   "execution_count": 7,
   "metadata": {},
   "outputs": [
    {
     "data": {
      "image/png": "[encoded data removed]",
      "text/plain": [
       "<Figure size 360x360 with 1 Axes>"
      ]
     },
     "metadata": {},
     "output_type": "display_data"
    }
   ],
   "source": [
    "plt.rcParams['figure.figsize'] = [5, 5]\n",
    "\n",
    "fruit_prices = sorted_fruit_price[\"price_per_lb\"].tolist()\n",
    "veg_prices = fresh_veg_drop[\"price_per_lb\"].tolist()\n",
    "price_data = [fruit_prices, veg_prices]\n",
    "\n",
    "fig, ax = plt.subplots()\n",
    "ax.boxplot(price_data, vert = False, labels = [\"Fruits\", \"Vegetables\"])\n",
    "ax.set_title(\"Boxplots of prices for each food types\")\n",
    "ax.set_xlabel(\"price_per_lb\")\n",
    "ax.set_ylabel(\"type of food\")\n",
    "plt.show()"
   ]
  },
  {
   "cell_type": "markdown",
   "metadata": {},
   "source": [
    "__What kinds of fruits are the most expensive (per pound)? What kinds are the least expensive?__\n",
    "\n",
    "From the first plot (price_per_lb vs type of fruit plot), it seems that small fruits like raspberries, blueberries, and blackberries are generally the most expensive. All 3 of these fruits are berries and have high yield percentages. The cheapest fruits are watermelons, cantaloupes, and bananas. These fruits all have a relatively low yield compared to the other fruits."
   ]
  },
  {
   "cell_type": "markdown",
   "metadata": {},
   "source": [
    "__How do the price distributions compare for fruit and vegetables?__\n",
    "\n",
    "From the second plot (price_per_lb vs type of fruit/veg plot), it appears that the most expensive fruits are more expensive than the most expensive vegetables. This was interesting to me so I decided to make a boxplot of each food type's price_per_lb. From the boxplots, it appears that the three most expensive fruits (raspberries, blackberries, and blueberries) are outliers compared to the prices of the other fruits. The first quartile and mean are around the same for both the food types but the third quartile is noticably higher for the vegetables."
   ]
  },
  {
   "cell_type": "markdown",
   "metadata": {},
   "source": [
    "__Which foods are the best value for the price?__\n",
    "\n",
    "In my opinion, the best values for the price foods are the ones that are cheapest per pound. In this case based on the second plot (price_per_lb vs type of fruit/veg plot), the 3 best value foods for their respective prices are watermelons, cantaloupes, and potatoes."
   ]
  },
  {
   "cell_type": "markdown",
   "metadata": {},
   "source": [
    "__What's something surprising about this data set?__\n",
    "\n",
    "Something surprising about this data set is that the cheapest fruits are generally low in yield while the cheapest vegetables are generally high in yield."
   ]
  },
  {
   "cell_type": "markdown",
   "metadata": {},
   "source": [
    "__Which foods do you expect to provide the best combination of price, yield, and nutrition? A future assignment may combine this data set with another so you can check your hypothesis.__\n",
    "\n",
    "__ Lifeng mentioned in an email that since we do not have all the necessary information there is no need to answer this question__\n"
   ]
  }
 ],
 "metadata": {
  "kernelspec": {
   "display_name": "Python 3",
   "language": "python",
   "name": "python3"
  },
  "language_info": {
   "codemirror_mode": {
    "name": "ipython",
    "version": 3
   },
   "file_extension": ".py",
   "mimetype": "text/x-python",
   "name": "python",
   "nbconvert_exporter": "python",
   "pygments_lexer": "ipython3",
   "version": "3.7.0"
  }
 },
 "nbformat": 4,
 "nbformat_minor": 2
}
